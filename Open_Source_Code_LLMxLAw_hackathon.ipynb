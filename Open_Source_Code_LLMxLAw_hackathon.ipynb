{
  "nbformat": 4,
  "nbformat_minor": 0,
  "metadata": {
    "colab": {
      "provenance": []
    },
    "kernelspec": {
      "name": "python3",
      "display_name": "Python 3"
    },
    "language_info": {
      "name": "python"
    }
  },
  "cells": [
    {
      "cell_type": "markdown",
      "source": [
        "# Q&A with a word doc"
      ],
      "metadata": {
        "id": "86af2M8-GsaI"
      }
    },
    {
      "cell_type": "code",
      "source": [
        "!pip install chromadb\n",
        "!pip install openai\n",
        "!pip install -qU langchain\n",
        "!pip install python-docx\n",
        "!pip install bayoo-docx\n",
        "!pip install tiktoken"
      ],
      "metadata": {
        "id": "HTj52tu810eq"
      },
      "execution_count": null,
      "outputs": []
    },
    {
      "cell_type": "code",
      "source": [
        "from langchain.embeddings.openai import OpenAIEmbeddings\n",
        "from langchain.text_splitter import CharacterTextSplitter\n",
        "from langchain.vectorstores import Chroma\n",
        "from langchain.docstore.document import Document\n",
        "from langchain.prompts import PromptTemplate\n",
        "from langchain.indexes.vectorstore import VectorstoreIndexCreator\n",
        "import openai\n",
        "import os\n",
        "from langchain.chains.question_answering import load_qa_chain\n",
        "from langchain.llms import OpenAI\n",
        "import docx"
      ],
      "metadata": {
        "id": "Z9TOEOcD0o62"
      },
      "execution_count": null,
      "outputs": []
    },
    {
      "cell_type": "code",
      "source": [
        "filepath = '<PATH HERE>'\n"
      ],
      "metadata": {
        "id": "EUIqL76m0q5c"
      },
      "execution_count": null,
      "outputs": []
    },
    {
      "cell_type": "code",
      "source": [
        "doc = docx.Document(filepath)\n",
        "full_text = []\n",
        "for para in doc.paragraphs:\n",
        "  full_text.append(para.text)\n",
        "final = '\\n'.join(full_text)\n",
        "\n",
        "text_splitter = CharacterTextSplitter(chunk_size=1000, chunk_overlap=0)\n",
        "texts = text_splitter.split_text(final)\n",
        "embeddings = OpenAIEmbeddings()\n",
        "docsearch = Chroma.from_texts(texts, embeddings, metadatas=[{\"source\": str(i)} for i in range(len(texts))]).as_retriever()"
        "query = \"What is the period of engagement?\"\n",
        "docs = docsearch.get_relevant_documents(query)\n",
        "chain = load_qa_chain(OpenAI(temperature=0), chain_type=\"stuff\")\n",
        "answer = chain.run(input_documents=docs, question=query)\n",
        "print(answer)"
      ],
      "metadata": {
        "colab": {
          "base_uri": "https://localhost:8080/"
        },
        "id": "3fYKdc960yLB",
        "outputId": "1b0b5642-152c-4dda-ee2a-0279aba69607"
      },
      "execution_count": null,
      "outputs": [
        {
          "output_type": "stream",
          "name": "stdout",
          "text": [
            " The period of engagement is 3 months (90 days).\n"
          ]
        }
      ]
    }
  ]
}
